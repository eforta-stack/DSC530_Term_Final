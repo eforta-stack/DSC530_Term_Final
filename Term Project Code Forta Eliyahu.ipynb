{
 "cells": [
  {
   "cell_type": "code",
   "execution_count": 2,
   "id": "4bb10a5b",
   "metadata": {},
   "outputs": [
    {
     "data": {
      "text/html": [
       "<div>\n",
       "<style scoped>\n",
       "    .dataframe tbody tr th:only-of-type {\n",
       "        vertical-align: middle;\n",
       "    }\n",
       "\n",
       "    .dataframe tbody tr th {\n",
       "        vertical-align: top;\n",
       "    }\n",
       "\n",
       "    .dataframe thead th {\n",
       "        text-align: right;\n",
       "    }\n",
       "</style>\n",
       "<table border=\"1\" class=\"dataframe\">\n",
       "  <thead>\n",
       "    <tr style=\"text-align: right;\">\n",
       "      <th></th>\n",
       "      <th>Sale Date</th>\n",
       "      <th>Sale Price</th>\n",
       "      <th>sale_reason</th>\n",
       "      <th>sale_instrument</th>\n",
       "      <th>sale_warning</th>\n",
       "      <th>sitetype</th>\n",
       "      <th>addr_full</th>\n",
       "      <th>zip5</th>\n",
       "      <th>ctyname</th>\n",
       "      <th>postalctyn</th>\n",
       "      <th>...</th>\n",
       "      <th>bedrooms</th>\n",
       "      <th>bath_full_count</th>\n",
       "      <th>bath_half_count</th>\n",
       "      <th>bath_3qtr_count</th>\n",
       "      <th>year_built</th>\n",
       "      <th>year_renovated</th>\n",
       "      <th>current_zoning</th>\n",
       "      <th>sq_ft_lot</th>\n",
       "      <th>prop_type</th>\n",
       "      <th>present_use</th>\n",
       "    </tr>\n",
       "  </thead>\n",
       "  <tbody>\n",
       "    <tr>\n",
       "      <th>0</th>\n",
       "      <td>1/3/2006</td>\n",
       "      <td>698000</td>\n",
       "      <td>1</td>\n",
       "      <td>3</td>\n",
       "      <td>NaN</td>\n",
       "      <td>R1</td>\n",
       "      <td>17021 NE 113TH CT</td>\n",
       "      <td>98052</td>\n",
       "      <td>REDMOND</td>\n",
       "      <td>REDMOND</td>\n",
       "      <td>...</td>\n",
       "      <td>4</td>\n",
       "      <td>2</td>\n",
       "      <td>1</td>\n",
       "      <td>0</td>\n",
       "      <td>2003</td>\n",
       "      <td>0</td>\n",
       "      <td>R4</td>\n",
       "      <td>6635</td>\n",
       "      <td>R</td>\n",
       "      <td>2</td>\n",
       "    </tr>\n",
       "    <tr>\n",
       "      <th>1</th>\n",
       "      <td>1/3/2006</td>\n",
       "      <td>649990</td>\n",
       "      <td>1</td>\n",
       "      <td>3</td>\n",
       "      <td>NaN</td>\n",
       "      <td>R1</td>\n",
       "      <td>11927 178TH PL NE</td>\n",
       "      <td>98052</td>\n",
       "      <td>REDMOND</td>\n",
       "      <td>REDMOND</td>\n",
       "      <td>...</td>\n",
       "      <td>4</td>\n",
       "      <td>2</td>\n",
       "      <td>0</td>\n",
       "      <td>1</td>\n",
       "      <td>2006</td>\n",
       "      <td>0</td>\n",
       "      <td>R4</td>\n",
       "      <td>5570</td>\n",
       "      <td>R</td>\n",
       "      <td>2</td>\n",
       "    </tr>\n",
       "    <tr>\n",
       "      <th>2</th>\n",
       "      <td>1/3/2006</td>\n",
       "      <td>572500</td>\n",
       "      <td>1</td>\n",
       "      <td>3</td>\n",
       "      <td>NaN</td>\n",
       "      <td>R1</td>\n",
       "      <td>13315 174TH AVE NE</td>\n",
       "      <td>98052</td>\n",
       "      <td>NaN</td>\n",
       "      <td>REDMOND</td>\n",
       "      <td>...</td>\n",
       "      <td>4</td>\n",
       "      <td>1</td>\n",
       "      <td>1</td>\n",
       "      <td>1</td>\n",
       "      <td>1987</td>\n",
       "      <td>0</td>\n",
       "      <td>R6</td>\n",
       "      <td>8444</td>\n",
       "      <td>R</td>\n",
       "      <td>2</td>\n",
       "    </tr>\n",
       "    <tr>\n",
       "      <th>3</th>\n",
       "      <td>1/3/2006</td>\n",
       "      <td>420000</td>\n",
       "      <td>1</td>\n",
       "      <td>3</td>\n",
       "      <td>NaN</td>\n",
       "      <td>R1</td>\n",
       "      <td>3303 178TH AVE NE</td>\n",
       "      <td>98052</td>\n",
       "      <td>REDMOND</td>\n",
       "      <td>REDMOND</td>\n",
       "      <td>...</td>\n",
       "      <td>3</td>\n",
       "      <td>1</td>\n",
       "      <td>0</td>\n",
       "      <td>1</td>\n",
       "      <td>1968</td>\n",
       "      <td>0</td>\n",
       "      <td>R4</td>\n",
       "      <td>9600</td>\n",
       "      <td>R</td>\n",
       "      <td>2</td>\n",
       "    </tr>\n",
       "    <tr>\n",
       "      <th>4</th>\n",
       "      <td>1/3/2006</td>\n",
       "      <td>369900</td>\n",
       "      <td>1</td>\n",
       "      <td>3</td>\n",
       "      <td>15</td>\n",
       "      <td>R1</td>\n",
       "      <td>16126 NE 108TH CT</td>\n",
       "      <td>98052</td>\n",
       "      <td>REDMOND</td>\n",
       "      <td>REDMOND</td>\n",
       "      <td>...</td>\n",
       "      <td>3</td>\n",
       "      <td>1</td>\n",
       "      <td>0</td>\n",
       "      <td>1</td>\n",
       "      <td>1980</td>\n",
       "      <td>0</td>\n",
       "      <td>R6</td>\n",
       "      <td>7526</td>\n",
       "      <td>R</td>\n",
       "      <td>2</td>\n",
       "    </tr>\n",
       "  </tbody>\n",
       "</table>\n",
       "<p>5 rows × 24 columns</p>\n",
       "</div>"
      ],
      "text/plain": [
       "  Sale Date  Sale Price  sale_reason  sale_instrument sale_warning sitetype  \\\n",
       "0  1/3/2006      698000            1                3          NaN       R1   \n",
       "1  1/3/2006      649990            1                3          NaN       R1   \n",
       "2  1/3/2006      572500            1                3          NaN       R1   \n",
       "3  1/3/2006      420000            1                3          NaN       R1   \n",
       "4  1/3/2006      369900            1                3           15       R1   \n",
       "\n",
       "            addr_full   zip5  ctyname postalctyn  ...  bedrooms  \\\n",
       "0   17021 NE 113TH CT  98052  REDMOND    REDMOND  ...         4   \n",
       "1   11927 178TH PL NE  98052  REDMOND    REDMOND  ...         4   \n",
       "2  13315 174TH AVE NE  98052      NaN    REDMOND  ...         4   \n",
       "3   3303 178TH AVE NE  98052  REDMOND    REDMOND  ...         3   \n",
       "4   16126 NE 108TH CT  98052  REDMOND    REDMOND  ...         3   \n",
       "\n",
       "   bath_full_count  bath_half_count  bath_3qtr_count  year_built  \\\n",
       "0                2                1                0        2003   \n",
       "1                2                0                1        2006   \n",
       "2                1                1                1        1987   \n",
       "3                1                0                1        1968   \n",
       "4                1                0                1        1980   \n",
       "\n",
       "   year_renovated  current_zoning  sq_ft_lot  prop_type  present_use  \n",
       "0               0              R4       6635          R            2  \n",
       "1               0              R4       5570          R            2  \n",
       "2               0              R6       8444          R            2  \n",
       "3               0              R4       9600          R            2  \n",
       "4               0              R6       7526          R            2  \n",
       "\n",
       "[5 rows x 24 columns]"
      ]
     },
     "execution_count": 2,
     "metadata": {},
     "output_type": "execute_result"
    }
   ],
   "source": [
    "# data\n",
    "import pandas as pd\n",
    "\n",
    "data = pd.read_csv('housing.csv')\n",
    "data.head()"
   ]
  },
  {
   "cell_type": "code",
   "execution_count": 3,
   "id": "f4cd44a8",
   "metadata": {},
   "outputs": [],
   "source": [
    "# variables\n",
    "salePrice = data['Sale Price']\n",
    "bathrooms = data['bath_full_count']\n",
    "squareft = data['square_feet_total_living']\n",
    "zipcode = data['zip5']\n",
    "grade = data['building_grade']"
   ]
  },
  {
   "cell_type": "code",
   "execution_count": 47,
   "id": "9494b987",
   "metadata": {},
   "outputs": [],
   "source": [
    "import matplotlib.pyplot as plt\n",
    "import numpy as np\n",
    "\n",
    "def plotting(var, rangemin, rangemax, xlab, ylab, title):\n",
    "    '''\n",
    "    var: histogram variable\n",
    "    rangemin: min x axis\n",
    "    rangemax: max x axis\n",
    "    '''\n",
    "    n, bins, patches = plt.hist(x=var, bins='auto', color='blue',\n",
    "                                alpha=0.7, rwidth=0.85, range = [rangemin, rangemax])\n",
    "    plt.grid(axis='y', alpha=0.75)\n",
    "    plt.xlabel(xlab)\n",
    "    plt.ylabel(ylab)\n",
    "    plt.title(title)\n",
    "\n",
    "    maxfreq = n.max()\n",
    "    # Set a clean upper y-axis limit.\n",
    "    plt.ylim(ymax=np.ceil(maxfreq / 10) * 10 if maxfreq % 10 else maxfreq + 10)\n",
    "\n",
    "\n"
   ]
  },
  {
   "cell_type": "code",
   "execution_count": 48,
   "id": "881203cf",
   "metadata": {},
   "outputs": [
    {
     "data": {
      "image/png": "[encoded data removed]",
      "text/plain": [
       "<Figure size 432x288 with 1 Axes>"
      ]
     },
     "metadata": {
      "needs_background": "light"
     },
     "output_type": "display_data"
    }
   ],
   "source": [
    "# hist sale price\n",
    "plotting(salePrice, 350000, 1200000, 'Dollars (millions)', 'Frequency', 'Sale Price')"
   ]
  },
  {
   "cell_type": "code",
   "execution_count": 49,
   "id": "a5e227cc",
   "metadata": {},
   "outputs": [
    {
     "data": {
      "image/png": "[encoded data removed]",
      "text/plain": [
       "<Figure size 432x288 with 1 Axes>"
      ]
     },
     "metadata": {
      "needs_background": "light"
     },
     "output_type": "display_data"
    }
   ],
   "source": [
    "# bathrooms\n",
    "plotting(bathrooms, 0, 5, 'Bathrooms', 'Frequency', 'Bathrooms')"
   ]
  },
  {
   "cell_type": "code",
   "execution_count": 50,
   "id": "5d3ca47f",
   "metadata": {},
   "outputs": [
    {
     "data": {
      "image/png": "[encoded data removed]",
      "text/plain": [
       "<Figure size 432x288 with 1 Axes>"
      ]
     },
     "metadata": {
      "needs_background": "light"
     },
     "output_type": "display_data"
    }
   ],
   "source": [
    "# sqft\n",
    "plotting(squareft, 800, 4000, 'Square Feet', 'Frequency', 'Square Feet')"
   ]
  },
  {
   "cell_type": "code",
   "execution_count": 51,
   "id": "cf2f17a8",
   "metadata": {},
   "outputs": [
    {
     "data": {
      "image/png": "[encoded data removed]",
      "text/plain": [
       "<Figure size 432x288 with 1 Axes>"
      ]
     },
     "metadata": {
      "needs_background": "light"
     },
     "output_type": "display_data"
    }
   ],
   "source": [
    "# zip code\n",
    "plotting(zipcode, 98051, 98054, 'Zip Code', 'Frequency', 'Zip Code')"
   ]
  },
  {
   "cell_type": "code",
   "execution_count": 52,
   "id": "de46eb34",
   "metadata": {},
   "outputs": [
    {
     "data": {
      "image/png": "[encoded data removed]",
      "text/plain": [
       "<Figure size 432x288 with 1 Axes>"
      ]
     },
     "metadata": {
      "needs_background": "light"
     },
     "output_type": "display_data"
    }
   ],
   "source": [
    "# grade\n",
    "plotting(grade, 5, 11, 'Building Grade', 'Frequency', 'Building Grade')"
   ]
  },
  {
   "cell_type": "code",
   "execution_count": 46,
   "id": "4570eb2d",
   "metadata": {},
   "outputs": [
    {
     "name": "stdout",
     "output_type": "stream",
     "text": [
      "660737.7496307812\n",
      "1.7984453944811505\n",
      "2539.5061795569372\n"
     ]
    }
   ],
   "source": [
    "# mean\n",
    "import statistics\n",
    "print(statistics.mean(salePrice))\n",
    "print(statistics.mean(bathrooms))\n",
    "print(statistics.mean(squareft))"
   ]
  },
  {
   "cell_type": "code",
   "execution_count": 59,
   "id": "d5832e5c",
   "metadata": {},
   "outputs": [
    {
     "data": {
      "text/plain": [
       "0    2\n",
       "1    2\n",
       "2    1\n",
       "3    1\n",
       "4    1\n",
       "Name: bath_full_count, dtype: int64"
      ]
     },
     "execution_count": 59,
     "metadata": {},
     "output_type": "execute_result"
    }
   ],
   "source": [
    "big_bath = bathrooms[bathrooms > 2]\n",
    "small_bath = bathrooms[bathrooms <= 2]"
   ]
  },
  {
   "cell_type": "code",
   "execution_count": 68,
   "id": "dfb665d6",
   "metadata": {},
   "outputs": [],
   "source": [
    "# pmf\n",
    "import thinkstats2 \n",
    "import thinkplot\n",
    "\n",
    "hist_big_bath = thinkstats2.Hist(big_bath)\n",
    "hist_small_bath = thinkstats2.Hist(small_bath)"
   ]
  },
  {
   "cell_type": "code",
   "execution_count": 69,
   "id": "557309df",
   "metadata": {},
   "outputs": [
    {
     "data": {
      "image/png": "[encoded data removed]",
      "text/plain": [
       "<Figure size 432x288 with 1 Axes>"
      ]
     },
     "metadata": {
      "needs_background": "light"
     },
     "output_type": "display_data"
    },
    {
     "data": {
      "text/plain": [
       "<Figure size 576x432 with 0 Axes>"
      ]
     },
     "metadata": {},
     "output_type": "display_data"
    }
   ],
   "source": [
    "width = 0.45\n",
    "thinkplot.PrePlot(2)\n",
    "thinkplot.Hist(hist_big_bath, align = 'right', width = width)\n",
    "thinkplot.Hist(hist_small_bath, align = 'left', width = width)\n",
    "thinkplot.Show(xlabel = 'Bathrooms', ylabel = 'Frequency')"
   ]
  },
  {
   "cell_type": "code",
   "execution_count": 72,
   "id": "2f1a9ff8",
   "metadata": {},
   "outputs": [
    {
     "data": {
      "image/png": "[encoded data removed]",
      "text/plain": [
       "<Figure size 432x288 with 1 Axes>"
      ]
     },
     "metadata": {
      "needs_background": "light"
     },
     "output_type": "display_data"
    },
    {
     "data": {
      "text/plain": [
       "<Figure size 576x432 with 0 Axes>"
      ]
     },
     "metadata": {},
     "output_type": "display_data"
    }
   ],
   "source": [
    "# cdf \n",
    "salePrice_cdf = thinkstats2.Cdf(salePrice, label = 'Price')\n",
    "thinkplot.Cdf(salePrice_cdf)\n",
    "thinkplot.Show(xlabel = 'Price', ylabel = 'Frequency')"
   ]
  },
  {
   "cell_type": "code",
   "execution_count": 75,
   "id": "0523f46b",
   "metadata": {},
   "outputs": [
    {
     "data": {
      "image/png": "[encoded data removed]",
      "text/plain": [
       "<Figure size 432x288 with 1 Axes>"
      ]
     },
     "metadata": {
      "needs_background": "light"
     },
     "output_type": "display_data"
    }
   ],
   "source": [
    "# normal prob plot\n",
    "def MakeNormalPlot(weights):\n",
    "    mean = weights.mean()\n",
    "    std = weights.std()\n",
    "    \n",
    "    xs = [-4,4]\n",
    "    fxs, fys = thinkstats2.FitLine(xs, inter = mean, slope = std)\n",
    "    thinkplot.Plot(fxs, fys, color = 'gray', label = 'model')\n",
    "    \n",
    "    xs, ys = thinkstats2.NormalProbability(weights)\n",
    "    thinkplot.Plot(xs, ys, label = 'Prices')\n",
    "    \n",
    "MakeNormalPlot(salePrice)"
   ]
  },
  {
   "cell_type": "code",
   "execution_count": 79,
   "id": "ae9aa03f",
   "metadata": {},
   "outputs": [
    {
     "data": {
      "image/png": "[encoded data removed]",
      "text/plain": [
       "<Figure size 432x288 with 1 Axes>"
      ]
     },
     "metadata": {
      "needs_background": "light"
     },
     "output_type": "display_data"
    }
   ],
   "source": [
    "# scatter plot\n",
    "thinkplot.Scatter(salePrice, bathrooms)"
   ]
  },
  {
   "cell_type": "code",
   "execution_count": 81,
   "id": "84b06bf7",
   "metadata": {},
   "outputs": [
    {
     "data": {
      "text/plain": [
       "74957.82742266737"
      ]
     },
     "execution_count": 81,
     "metadata": {},
     "output_type": "execute_result"
    }
   ],
   "source": [
    "# covariance\n",
    "def Cov(xs, ys, meanx = None, meany = None):\n",
    "    xs = np.asarray(xs)\n",
    "    ys = np.asarray(ys)\n",
    "    \n",
    "    if meanx is None:\n",
    "        meanx = np.mean(xs)\n",
    "    if meany is None:\n",
    "        meany = np.mean(ys)\n",
    "        \n",
    "    cov = np.dot(xs-meanx, ys-meany)/len(xs)\n",
    "    return cov\n",
    "\n",
    "Cov(salePrice, bathrooms)"
   ]
  },
  {
   "cell_type": "code",
   "execution_count": 83,
   "id": "1ea11ca2",
   "metadata": {},
   "outputs": [
    {
     "data": {
      "text/plain": [
       "array([[1.        , 0.28484899],\n",
       "       [0.28484899, 1.        ]])"
      ]
     },
     "execution_count": 83,
     "metadata": {},
     "output_type": "execute_result"
    }
   ],
   "source": [
    "# pearson\n",
    "np.corrcoef(salePrice, bathrooms)"
   ]
  },
  {
   "cell_type": "code",
   "execution_count": 86,
   "id": "f1e672ba",
   "metadata": {},
   "outputs": [
    {
     "data": {
      "text/plain": [
       "0.4356509765385682"
      ]
     },
     "execution_count": 86,
     "metadata": {},
     "output_type": "execute_result"
    }
   ],
   "source": [
    "# spearman\n",
    "def SpearmanCorr(xs, ys):\n",
    "    xranks = pd.Series(xs)\n",
    "    yranks = pd.Series(ys)\n",
    "    return xs.corr(ys, method = 'spearman')\n",
    "\n",
    "SpearmanCorr(salePrice, bathrooms)"
   ]
  },
  {
   "cell_type": "code",
   "execution_count": 136,
   "id": "3a4bcb07",
   "metadata": {},
   "outputs": [],
   "source": [
    "# hypothesis test\n",
    "class BathTest(thinkstats2.HypothesisTest):\n",
    "    \n",
    "    def Test(self, data):\n",
    "        small_bath, big_bath = data\n",
    "        test_stat = abs(small_bath - big_bath)\n",
    "        return test_stat\n",
    "    \n",
    "    def RunModel(self):\n",
    "        small_bath, big_bath = self.data\n",
    "        n = small_bath + big_bath\n",
    "        sample = [random.choice('HT') for _ in range(n)]\n",
    "        test_hist = thinkstats2.Hist(sample)\n",
    "        data = test_hist['H'], test_hist['T']\n",
    "        return data"
   ]
  },
  {
   "cell_type": "code",
   "execution_count": 137,
   "id": "52f35338",
   "metadata": {},
   "outputs": [
    {
     "data": {
      "text/plain": [
       "(1092429.2052353343, 3025340.4080914687)"
      ]
     },
     "execution_count": 137,
     "metadata": {},
     "output_type": "execute_result"
    }
   ],
   "source": [
    "small_bath_price = small_bath * salePrice\n",
    "big_bath_price = big_bath * salePrice\n",
    "\n",
    "small_bath_price.mean(), big_bath_price.mean()\n"
   ]
  },
  {
   "cell_type": "code",
   "execution_count": 142,
   "id": "a0d6ccfc",
   "metadata": {},
   "outputs": [],
   "source": [
    "# regression with fitted line\n",
    "def LeastSquares(xs, ys):\n",
    "    meanx, varx = MeanVar(xs)\n",
    "    meany = ys.mean()\n",
    "    \n",
    "    slope = Cov(xs,ys,meanx,meany)/varx\n",
    "    inter = meany - slope * meanx\n",
    "    \n",
    "    return inter, slope"
   ]
  },
  {
   "cell_type": "code",
   "execution_count": 143,
   "id": "e47fc7b8",
   "metadata": {},
   "outputs": [],
   "source": [
    "def FitLine(xs, inter, slope):\n",
    "    fitxs = np.sort(xs)\n",
    "    fitys = inter + slope * fitys\n",
    "    return fitxs, fitys"
   ]
  },
  {
   "cell_type": "code",
   "execution_count": 148,
   "id": "6f53bb89",
   "metadata": {},
   "outputs": [
    {
     "name": "stdout",
     "output_type": "stream",
     "text": [
      "1.4955461354366069 4.584258417409977e-07\n"
     ]
    }
   ],
   "source": [
    "inter, slope = thinkstats2.LeastSquares(salePrice, bathrooms)\n",
    "\n",
    "fitxs, fitys = thinkstats2.FitLine(salePrice, inter, slope)\n",
    "print(inter,slope)"
   ]
  }
 ],
 "metadata": {
  "kernelspec": {
   "display_name": "Python 3",
   "language": "python",
   "name": "python3"
  },
  "language_info": {
   "codemirror_mode": {
    "name": "ipython",
    "version": 3
   },
   "file_extension": ".py",
   "mimetype": "text/x-python",
   "name": "python",
   "nbconvert_exporter": "python",
   "pygments_lexer": "ipython3",
   "version": "3.8.8"
  }
 },
 "nbformat": 4,
 "nbformat_minor": 5
}
